{
 "cells": [
  {
   "cell_type": "code",
   "execution_count": 10,
   "metadata": {},
   "outputs": [],
   "source": [
    "import numpy as np\n",
    "from typing import List\n"
   ]
  },
  {
   "cell_type": "code",
   "execution_count": 11,
   "metadata": {},
   "outputs": [],
   "source": [
    "class Solution:\n",
    "    def mergeAlternately(self, word1: str, word2: str) -> str:\n",
    "        chars1 = [char for char in word1]\n",
    "        chars2 = [char for char in word2]\n",
    "        result = \"\"\n",
    "        min_length = min(len(chars1), len(chars2))\n",
    "        for i in range(min_length):\n",
    "            result += chars1[i]\n",
    "            result += chars2[i]\n",
    "        \n",
    "        if len(chars1) > len(chars2):\n",
    "            result += ''.join(chars1[min_length:])\n",
    "        else:\n",
    "            result += ''.join(chars2[min_length:])\n",
    "\n",
    "        return result\n"
   ]
  },
  {
   "cell_type": "code",
   "execution_count": 12,
   "metadata": {},
   "outputs": [],
   "source": [
    "class Solution:\n",
    "    def gcdOfStrings(self, str1: str, str2: str) -> str:\n",
    "        min_str = \"\"\n",
    "        max_str = \"\"\n",
    "        if len(str1) > len(str2):\n",
    "            min_str = str2\n",
    "            max_str = str1\n",
    "        elif len(str1) < len(str2):\n",
    "            min_str = str1\n",
    "            max_str = str2\n",
    "        elif str1 == str2:\n",
    "            return str1\n",
    "        else:\n",
    "            return \"\"\n",
    "        \n",
    "        min_length = min(len(str1), len(str2))\n",
    "        max_length = max(len(str1), len(str2))\n",
    "\n",
    "        # if max_length % min_length != 0:\n",
    "            # return \"\"\n",
    "        \n",
    "        counter = 0\n",
    "        result = \"\"    \n",
    "        common_divider = \"\"\n",
    "        \n",
    "        while (counter < min_length):\n",
    "            common_divider += min_str[counter]\n",
    "            counter += 1\n",
    "            if (min_length % len(common_divider) == 0 and max_length % len(common_divider) == 0):\n",
    "                ratio1 = int(min_length / len(common_divider))\n",
    "                ratio2 = int(max_length / len(common_divider))\n",
    "                if (max_str == common_divider * ratio2 and min_str == common_divider * ratio1):\n",
    "                    result = common_divider\n",
    "\n",
    "        # print(result)\n",
    "        return result\n"
   ]
  },
  {
   "cell_type": "code",
   "execution_count": 13,
   "metadata": {},
   "outputs": [],
   "source": [
    "class Solution:\n",
    "    def kidsWithCandies(self, candies: List[int], extraCandies: int) -> List[bool]:\n",
    "        maximum_value_in_initial_list = 0\n",
    "        for i in range(len(candies)):\n",
    "            if candies[i] > maximum_value_in_initial_list:\n",
    "                maximum_value_in_initial_list = candies[i]\n",
    "        \n",
    "        result = []\n",
    "        for i in range(len(candies)):\n",
    "            if candies[i] + extraCandies >= maximum_value_in_initial_list:\n",
    "                result.append(True)\n",
    "            else:\n",
    "                result.append(False)\n",
    "        \n",
    "        return result"
   ]
  },
  {
   "cell_type": "code",
   "execution_count": 14,
   "metadata": {},
   "outputs": [],
   "source": [
    "class Solution:\n",
    "    def canPlaceFlowers(self, flowerbed: List[int], n: int) -> bool:\n",
    "        local = 1\n",
    "        max_new_flowers = 0\n",
    "        previous_is_zero = True\n",
    "        for i in range(len(flowerbed)):\n",
    "            if flowerbed[i] == 0:\n",
    "                if previous_is_zero:\n",
    "                    local += 1\n",
    "                else:\n",
    "                    local += 1\n",
    "                    previous_is_zero = True\n",
    "            else:\n",
    "                if previous_is_zero:\n",
    "                    if local > 0:\n",
    "                        max_new_flowers += (local - 1) // 2\n",
    "                    previous_is_zero = False\n",
    "                    local = 0\n",
    "        if local > 0:\n",
    "            max_new_flowers += (local) // 2\n",
    "\n",
    "        return max_new_flowers >= n\n",
    "        \n",
    "        # for в range - говно. Пруфы ниже\n",
    "        # max_new_flowers = 0\n",
    "        # for i in range(len(flowerbed)):\n",
    "        #     if flowerbed[i] == 0:\n",
    "        #         j = 1\n",
    "        #         while flowerbed[i + j] == 0:\n",
    "        #             j += 1\n",
    "        #         max_new_flowers += (j - 1) // 2\n",
    "        #         i += j\n",
    "        \n",
    "        # print(f\"max = {max_new_flowers}\")\n",
    "        # return max_new_flowers >= n\n",
    "                     "
   ]
  },
  {
   "cell_type": "code",
   "execution_count": null,
   "metadata": {},
   "outputs": [],
   "source": [
    "class Solution:\n",
    "    def reverseVowels(self, s: str) -> str:\n",
    "        vowels = []\n",
    "        for i in range(len(s)):\n",
    "            if s[i] == 'a' or s[i] == 'e' or s[i] == 'i' or s[i] == 'o' or s[i] == 'u':\n",
    "                vowels.append(s[i], i)\n",
    "        \n",
    "        # хз как тут обращаться к туплам или словарям\n",
    "        for i in range(len(vowels)):\n",
    "            s[key(i)]"
   ]
  },
  {
   "cell_type": "code",
   "execution_count": 15,
   "metadata": {},
   "outputs": [
    {
     "name": "stdout",
     "output_type": "stream",
     "text": [
      "False\n"
     ]
    }
   ],
   "source": [
    "for_self = \"123\"\n",
    "# Solution.mergeAlternately(for_self, word1 = \"fdsawww\", word2 = \"fdsarrrrrr\")\n",
    "\n",
    "# Solution.gcdOfStrings(for_self, \"LEET\", \"AB\")\n",
    "\n",
    "# candies = [12, 1, 12]\n",
    "# extraCandies = 1\n",
    "# print(Solution.kidsWithCandies(for_self, candies, extraCandies))\n",
    "\n",
    "# print(Solution.canPlaceFlowers(for_self, [1, 0, 0, 0, 1], 2))\n",
    "\n",
    "print(Solution.reverseVowels(for_self, \"hello\"))\n"
   ]
  }
 ],
 "metadata": {
  "kernelspec": {
   "display_name": "Python 3",
   "language": "python",
   "name": "python3"
  },
  "language_info": {
   "codemirror_mode": {
    "name": "ipython",
    "version": 3
   },
   "file_extension": ".py",
   "mimetype": "text/x-python",
   "name": "python",
   "nbconvert_exporter": "python",
   "pygments_lexer": "ipython3",
   "version": "3.11.4"
  },
  "orig_nbformat": 4
 },
 "nbformat": 4,
 "nbformat_minor": 2
}
