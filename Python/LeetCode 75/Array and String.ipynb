{
 "cells": [
  {
   "cell_type": "code",
   "execution_count": 26,
   "metadata": {},
   "outputs": [],
   "source": [
    "import numpy as np\n"
   ]
  },
  {
   "cell_type": "code",
   "execution_count": 27,
   "metadata": {},
   "outputs": [],
   "source": [
    "class Solution:\n",
    "    def mergeAlternately(self, word1: str, word2: str) -> str:\n",
    "        chars1 = [char for char in word1]\n",
    "        chars2 = [char for char in word2]\n",
    "        result = \"\"\n",
    "        min_length = min(len(chars1), len(chars2))\n",
    "        for i in range(min_length):\n",
    "            result += chars1[i]\n",
    "            result += chars2[i]\n",
    "        \n",
    "        if len(chars1) > len(chars2):\n",
    "            result += ''.join(chars1[min_length:])\n",
    "        else:\n",
    "            result += ''.join(chars2[min_length:])\n",
    "\n",
    "        return result\n"
   ]
  },
  {
   "cell_type": "code",
   "execution_count": 28,
   "metadata": {},
   "outputs": [],
   "source": [
    "# class Solution:\n",
    "#     def gcdOfStrings(self, str1: str, str2: str) -> str:\n"
   ]
  },
  {
   "cell_type": "code",
   "execution_count": 29,
   "metadata": {},
   "outputs": [
    {
     "name": "stdout",
     "output_type": "stream",
     "text": [
      "123\n"
     ]
    }
   ],
   "source": [
    "answer = \"123\"\n",
    "Solution.mergeAlternately(answer, word1 = \"fdsawww\", word2 = \"fdsarrrrrr\")\n"
   ]
  }
 ],
 "metadata": {
  "kernelspec": {
   "display_name": "Python 3",
   "language": "python",
   "name": "python3"
  },
  "language_info": {
   "codemirror_mode": {
    "name": "ipython",
    "version": 3
   },
   "file_extension": ".py",
   "mimetype": "text/x-python",
   "name": "python",
   "nbconvert_exporter": "python",
   "pygments_lexer": "ipython3",
   "version": "3.11.4"
  },
  "orig_nbformat": 4
 },
 "nbformat": 4,
 "nbformat_minor": 2
}
