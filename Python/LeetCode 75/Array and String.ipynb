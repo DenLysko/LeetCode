{
 "cells": [
  {
   "cell_type": "code",
   "execution_count": 32,
   "metadata": {},
   "outputs": [],
   "source": [
    "import numpy as np\n"
   ]
  },
  {
   "cell_type": "code",
   "execution_count": 33,
   "metadata": {},
   "outputs": [],
   "source": [
    "class Solution:\n",
    "    def mergeAlternately(self, word1: str, word2: str) -> str:\n",
    "        chars1 = [char for char in word1]\n",
    "        chars2 = [char for char in word2]\n",
    "        result = \"\"\n",
    "        min_length = min(len(chars1), len(chars2))\n",
    "        for i in range(min_length):\n",
    "            result += chars1[i]\n",
    "            result += chars2[i]\n",
    "        \n",
    "        if len(chars1) > len(chars2):\n",
    "            result += ''.join(chars1[min_length:])\n",
    "        else:\n",
    "            result += ''.join(chars2[min_length:])\n",
    "\n",
    "        return result\n"
   ]
  },
  {
   "cell_type": "code",
   "execution_count": 34,
   "metadata": {},
   "outputs": [],
   "source": [
    "class Solution:\n",
    "    def gcdOfStrings(self, str1: str, str2: str) -> str:\n",
    "        min_str = \"\"\n",
    "        max_str = \"\"\n",
    "        if len(str1) > len(str2):\n",
    "            min_str = str2\n",
    "            max_str = str1\n",
    "        elif len(str1) < len(str2):\n",
    "            min_str = str1\n",
    "            max_str = str2\n",
    "        elif str1 == str2:\n",
    "            return str1\n",
    "        else:\n",
    "            return \"\"\n",
    "        \n",
    "        min_length = min(len(str1), len(str2))\n",
    "        max_length = max(len(str1), len(str2))\n",
    "\n",
    "        # if max_length % min_length != 0:\n",
    "            # return \"\"\n",
    "        \n",
    "        counter = 0\n",
    "        result = \"\"    \n",
    "        common_divider = \"\"\n",
    "        \n",
    "        while (counter < min_length):\n",
    "            common_divider += min_str[counter]\n",
    "            counter += 1\n",
    "            if (min_length % len(common_divider) == 0 and max_length % len(common_divider) == 0):\n",
    "                ratio1 = min_length / len(common_divider)\n",
    "                ratio2 = max_length / len(common_divider)\n",
    "                if (max_str == common_divider * ratio2 and min_str == common_divider * ratio1):\n",
    "                    result = common_divider\n",
    "\n",
    "        print(result)\n",
    "        return result\n"
   ]
  },
  {
   "cell_type": "code",
   "execution_count": 35,
   "metadata": {},
   "outputs": [
    {
     "ename": "AttributeError",
     "evalue": "type object 'Solution' has no attribute 'mergeAlternately'",
     "output_type": "error",
     "traceback": [
      "\u001b[1;31m---------------------------------------------------------------------------\u001b[0m",
      "\u001b[1;31mAttributeError\u001b[0m                            Traceback (most recent call last)",
      "Cell \u001b[1;32mIn[35], line 2\u001b[0m\n\u001b[0;32m      1\u001b[0m for_self \u001b[39m=\u001b[39m \u001b[39m\"\u001b[39m\u001b[39m123\u001b[39m\u001b[39m\"\u001b[39m\n\u001b[1;32m----> 2\u001b[0m Solution\u001b[39m.\u001b[39;49mmergeAlternately(for_self, word1 \u001b[39m=\u001b[39m \u001b[39m\"\u001b[39m\u001b[39mfdsawww\u001b[39m\u001b[39m\"\u001b[39m, word2 \u001b[39m=\u001b[39m \u001b[39m\"\u001b[39m\u001b[39mfdsarrrrrr\u001b[39m\u001b[39m\"\u001b[39m)\n\u001b[0;32m      3\u001b[0m Solution\u001b[39m.\u001b[39mgcdOfStrings(for_self, \u001b[39m\"\u001b[39m\u001b[39mAVAV\u001b[39m\u001b[39m\"\u001b[39m, word2 \u001b[39m=\u001b[39m \u001b[39m\"\u001b[39m\u001b[39mAV\u001b[39m\u001b[39m\"\u001b[39m)\n",
      "\u001b[1;31mAttributeError\u001b[0m: type object 'Solution' has no attribute 'mergeAlternately'"
     ]
    }
   ],
   "source": [
    "for_self = \"123\"\n",
    "# Solution.mergeAlternately(for_self, word1 = \"fdsawww\", word2 = \"fdsarrrrrr\")\n",
    "Solution.gcdOfStrings(for_self, \"AVAV\", word2 = \"AV\")\n"
   ]
  }
 ],
 "metadata": {
  "kernelspec": {
   "display_name": "Python 3",
   "language": "python",
   "name": "python3"
  },
  "language_info": {
   "codemirror_mode": {
    "name": "ipython",
    "version": 3
   },
   "file_extension": ".py",
   "mimetype": "text/x-python",
   "name": "python",
   "nbconvert_exporter": "python",
   "pygments_lexer": "ipython3",
   "version": "3.11.4"
  },
  "orig_nbformat": 4
 },
 "nbformat": 4,
 "nbformat_minor": 2
}
