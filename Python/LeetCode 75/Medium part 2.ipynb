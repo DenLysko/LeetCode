{
 "cells": [
  {
   "cell_type": "code",
   "execution_count": 2,
   "metadata": {},
   "outputs": [],
   "source": [
    "import numpy as np\n",
    "from typing import List\n",
    "from typing import Optional"
   ]
  },
  {
   "cell_type": "code",
   "execution_count": 3,
   "metadata": {},
   "outputs": [],
   "source": [
    "class Solution:\n",
    "    def removeStars(self, s: str) -> str:\n",
    "        result = []\n",
    "        for ch in s:\n",
    "            if ch == \"*\":\n",
    "                result.pop()\n",
    "            else:\n",
    "                result.append(ch)\n",
    "        return ''.join(result)"
   ]
  },
  {
   "cell_type": "code",
   "execution_count": 4,
   "metadata": {},
   "outputs": [],
   "source": [
    "class Solution:\n",
    "    def asteroidCollisionWrong(self, asteroids: List[int]) -> List[int]:\n",
    "        result = []\n",
    "        for ast in asteroids:\n",
    "            if (len(result) == 0):\n",
    "                result.append(ast)\n",
    "            elif ast * result[-1] > 0:\n",
    "                result.append(ast)\n",
    "            else:\n",
    "                while abs(result[-1]) <= abs(ast):\n",
    "                    if result[-1] == -ast:\n",
    "                        result.pop()\n",
    "                        break\n",
    "                    result.pop()\n",
    "        return result"
   ]
  },
  {
   "cell_type": "code",
   "execution_count": 5,
   "metadata": {},
   "outputs": [],
   "source": [
    "class Solution:\n",
    "    def asteroidCollisionWrong2(self, asteroids: List[int]) -> List[int]:\n",
    "        result = []\n",
    "        was = False\n",
    "        counter = 0\n",
    "        for ast in asteroids:\n",
    "            if ast < 0:\n",
    "                counter += 1\n",
    "                result.append(ast)\n",
    "            else:\n",
    "                break\n",
    "        for i in range(counter, len(asteroids)):\n",
    "            if len(result) == 0:\n",
    "                result.append(asteroids[i])\n",
    "            elif asteroids[i] * result[-1] > 0:\n",
    "                result.append(asteroids[i])\n",
    "            else:\n",
    "                while result[-1] * asteroids[i] < 0:\n",
    "                    if abs(asteroids[i]) > abs(result[-1]):\n",
    "                        result.pop()\n",
    "                        if len(result) == 0:\n",
    "                            result.append(asteroids[i])\n",
    "                            break\n",
    "                    elif abs(asteroids[i]) == abs(result[-1]):\n",
    "                        result.pop()\n",
    "                        break\n",
    "                    else:\n",
    "                        break\n",
    "        return result"
   ]
  },
  {
   "cell_type": "code",
   "execution_count": 6,
   "metadata": {},
   "outputs": [],
   "source": [
    "class Solution:\n",
    "    def asteroidCollision(self, asteroids: List[int]) -> List[int]:\n",
    "        ans=[]\n",
    "        for asteroid in asteroids:\n",
    "            while ans and ans[-1]>0 and asteroid<0:\n",
    "                if ans[-1]+asteroid<0:\n",
    "                    ans.pop()\n",
    "                elif ans[-1]+asteroid>0:\n",
    "                    break\n",
    "                else:\n",
    "                    ans.pop()\n",
    "                    break\n",
    "            else:\n",
    "                ans.append(asteroid)\n",
    "\n",
    "        return ans                            "
   ]
  },
  {
   "cell_type": "code",
   "execution_count": 17,
   "metadata": {},
   "outputs": [],
   "source": [
    "class Solution:\n",
    "    def decodeString(self, s: str) -> str:\n",
    "        counter = 0\n",
    "        while counter < len(s):            \n",
    "            if s[counter].isnumeric():\n",
    "                full_number, counter = Solution.getFullNumber(self, s, counter)\n",
    "                print(counter)\n",
    "                print(f\"full_number = {full_number}\")\n",
    "            else:\n",
    "                counter += 1                \n",
    "\n",
    "    def getFullNumber(self, s:str, counter: int) -> int:\n",
    "        number_as_string = s[counter]\n",
    "        counter += 1\n",
    "        while counter < len(s) and s[counter].isnumeric():\n",
    "            number_as_string += s[counter]\n",
    "            counter += 1\n",
    "\n",
    "        return int(number_as_string), counter"
   ]
  },
  {
   "cell_type": "code",
   "execution_count": 18,
   "metadata": {},
   "outputs": [
    {
     "name": "stdout",
     "output_type": "stream",
     "text": [
      "2\n",
      "full_number = 12\n",
      "6\n",
      "full_number = 2\n",
      "None\n"
     ]
    }
   ],
   "source": [
    "sol = Solution()\n",
    "# print(sol.removeStars(\"erase*****\"))\n",
    "# print(sol.asteroidCollision([-2,-1,1,2]))\n",
    "print(sol.decodeString(\"12[a]2[bc]\"))"
   ]
  }
 ],
 "metadata": {
  "kernelspec": {
   "display_name": "Python 3",
   "language": "python",
   "name": "python3"
  },
  "language_info": {
   "codemirror_mode": {
    "name": "ipython",
    "version": 3
   },
   "file_extension": ".py",
   "mimetype": "text/x-python",
   "name": "python",
   "nbconvert_exporter": "python",
   "pygments_lexer": "ipython3",
   "version": "3.11.4"
  },
  "orig_nbformat": 4
 },
 "nbformat": 4,
 "nbformat_minor": 2
}
