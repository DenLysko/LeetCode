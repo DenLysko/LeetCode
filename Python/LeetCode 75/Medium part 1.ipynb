{
 "cells": [
  {
   "cell_type": "code",
   "execution_count": 1,
   "metadata": {},
   "outputs": [],
   "source": [
    "import numpy as np\n",
    "from typing import List\n",
    "from typing import Optional"
   ]
  },
  {
   "cell_type": "code",
   "execution_count": 2,
   "metadata": {},
   "outputs": [],
   "source": [
    "class Solution:\n",
    "    def reverseWords(self, s: str) -> str:\n",
    "        words = s.split(\" \")\n",
    "        arr_for_deleting = []\n",
    "        for i in range(len(words)):\n",
    "            if len(words[i]) == 0:\n",
    "                arr_for_deleting.append(i)\n",
    "        for i in range(len(arr_for_deleting)):\n",
    "            del words[arr_for_deleting[-i-1]]\n",
    "        \n",
    "        return ' '.join(words[::-1])"
   ]
  },
  {
   "cell_type": "code",
   "execution_count": 3,
   "metadata": {},
   "outputs": [],
   "source": [
    "class Solution:\n",
    "    def productExceptSelf(self, nums: List[int]) -> List[int]:\n",
    "        product = 1\n",
    "        count_zero = 0\n",
    "        tmp = 0\n",
    "        for i in range(len(nums)):\n",
    "            if nums[i] == 0:\n",
    "                count_zero += 1\n",
    "                tmp = i\n",
    "            else:\n",
    "                product *= nums[i]\n",
    "        \n",
    "        if (count_zero == 0):\n",
    "            for i in range(len(nums)):\n",
    "                nums[i] = int(product / nums[i])\n",
    "            return nums\n",
    "        elif (count_zero == 1):\n",
    "            arr = [0]*len(nums)\n",
    "            arr[tmp] = product\n",
    "            return arr\n",
    "        else:\n",
    "            return [0]*len(nums)"
   ]
  },
  {
   "cell_type": "code",
   "execution_count": 13,
   "metadata": {},
   "outputs": [],
   "source": [
    "from copy import copy\n",
    "\n",
    "class Solution:\n",
    "    def increasingTriplet(self, nums: List[int]) -> bool:\n",
    "        minFirst = 2**31\n",
    "        minSecond = minFirst\n",
    "        for num in nums:\n",
    "            if num > minSecond:\n",
    "                return True\n",
    "            elif num < minSecond and num > minFirst:\n",
    "                minSecond = num\n",
    "            elif num < minFirst:\n",
    "                minFirst = num\n",
    "        return False"
   ]
  },
  {
   "cell_type": "code",
   "execution_count": 14,
   "metadata": {},
   "outputs": [
    {
     "name": "stdout",
     "output_type": "stream",
     "text": [
      "2\n",
      "8589934592\n",
      "8589934592\n",
      "\n",
      "1\n",
      "2\n",
      "8589934592\n",
      "\n",
      "5\n",
      "1\n",
      "8589934592\n",
      "\n",
      "0\n",
      "1\n",
      "5\n",
      "\n",
      "4\n",
      "0\n",
      "5\n",
      "\n",
      "6\n",
      "0\n",
      "4\n",
      "\n",
      "True\n"
     ]
    }
   ],
   "source": [
    "sol = Solution()\n",
    "# print(sol.reverseWords(\"  hello world  \"))\n",
    "# print(sol.productExceptSelf([-1,1,0,-3,3]))\n",
    "print(sol.increasingTriplet([2,1,5,0,4,6]))"
   ]
  }
 ],
 "metadata": {
  "kernelspec": {
   "display_name": "Python 3",
   "language": "python",
   "name": "python3"
  },
  "language_info": {
   "codemirror_mode": {
    "name": "ipython",
    "version": 3
   },
   "file_extension": ".py",
   "mimetype": "text/x-python",
   "name": "python",
   "nbconvert_exporter": "python",
   "pygments_lexer": "ipython3",
   "version": "3.11.4"
  },
  "orig_nbformat": 4
 },
 "nbformat": 4,
 "nbformat_minor": 2
}
