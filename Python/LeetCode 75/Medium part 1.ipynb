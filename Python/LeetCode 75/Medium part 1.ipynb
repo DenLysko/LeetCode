{
 "cells": [
  {
   "cell_type": "code",
   "execution_count": 1,
   "metadata": {},
   "outputs": [],
   "source": [
    "import numpy as np\n",
    "from typing import List\n",
    "from typing import Optional"
   ]
  },
  {
   "cell_type": "code",
   "execution_count": 2,
   "metadata": {},
   "outputs": [],
   "source": [
    "class Solution:\n",
    "    def reverseWords(self, s: str) -> str:\n",
    "        words = s.split(\" \")\n",
    "        arr_for_deleting = []\n",
    "        for i in range(len(words)):\n",
    "            if len(words[i]) == 0:\n",
    "                arr_for_deleting.append(i)\n",
    "        for i in range(len(arr_for_deleting)):\n",
    "            del words[arr_for_deleting[-i-1]]\n",
    "        \n",
    "        return ' '.join(words[::-1])"
   ]
  },
  {
   "cell_type": "code",
   "execution_count": 3,
   "metadata": {},
   "outputs": [],
   "source": [
    "class Solution:\n",
    "    def productExceptSelf(self, nums: List[int]) -> List[int]:\n",
    "        product = 1\n",
    "        count_zero = 0\n",
    "        tmp = 0\n",
    "        for i in range(len(nums)):\n",
    "            if nums[i] == 0:\n",
    "                count_zero += 1\n",
    "                tmp = i\n",
    "            else:\n",
    "                product *= nums[i]\n",
    "        \n",
    "        if (count_zero == 0):\n",
    "            for i in range(len(nums)):\n",
    "                nums[i] = int(product / nums[i])\n",
    "            return nums\n",
    "        elif (count_zero == 1):\n",
    "            arr = [0]*len(nums)\n",
    "            arr[tmp] = product\n",
    "            return arr\n",
    "        else:\n",
    "            return [0]*len(nums)"
   ]
  },
  {
   "cell_type": "code",
   "execution_count": 4,
   "metadata": {},
   "outputs": [],
   "source": [
    "from copy import copy\n",
    "\n",
    "class Solution:\n",
    "    def increasingTriplet(self, nums: List[int]) -> bool:\n",
    "        minFirst = 2**31\n",
    "        minSecond = minFirst\n",
    "        for num in nums:\n",
    "            if num > minSecond:\n",
    "                return True\n",
    "            elif num < minSecond and num > minFirst:\n",
    "                minSecond = num\n",
    "            elif num < minFirst:\n",
    "                minFirst = num\n",
    "        return False"
   ]
  },
  {
   "cell_type": "code",
   "execution_count": 34,
   "metadata": {},
   "outputs": [],
   "source": [
    "class Solution:\n",
    "    def compress(self, chars: List[str]) -> int:\n",
    "        counter = 0\n",
    "        dic = {}\n",
    "        result = []\n",
    "        while counter < len(chars):\n",
    "            another_char = chars[counter]\n",
    "            local_counter = 1\n",
    "            while counter + local_counter < len(chars) and chars[counter + local_counter] == another_char:\n",
    "                local_counter += 1\n",
    "            # print(f\"chars = {chars}\")\n",
    "            del chars[counter:counter + local_counter]\n",
    "            # print(f\"chars = {chars}\")\n",
    "            reversed_char_array = Solution.getCharArray(self, local_counter)\n",
    "            chars.insert(counter, another_char)\n",
    "            if local_counter > 1:\n",
    "                for ch in reversed_char_array:\n",
    "                    chars.insert(counter + 1, ch)\n",
    "                    # print(chars)\n",
    "                counter += (len(reversed_char_array) + 1)\n",
    "            else:\n",
    "                counter += 1\n",
    "        \n",
    "        print(chars)\n",
    "        return len(chars)\n",
    "\n",
    "    def getCharArray(self, local_counter: int) -> List[str]:\n",
    "        result = []\n",
    "        # print(f\"local_counter = {local_counter}\")\n",
    "        while local_counter > 0:\n",
    "            result.append(str(local_counter % 10))\n",
    "            # print(f\"local_counter1 = {local_counter}\")\n",
    "            local_counter = local_counter // 10\n",
    "            # print(f\"local_counter2 = {local_counter}\")\n",
    "        # print(f\"result = {result}\")\n",
    "        return result"
   ]
  },
  {
   "cell_type": "code",
   "execution_count": 91,
   "metadata": {},
   "outputs": [],
   "source": [
    "# Решение задачи за n^2\n",
    "class Solution:\n",
    "    def maxAreaSlow(self, height: List[int]) -> int:\n",
    "        max = 0\n",
    "        for i in range(0, len(height) - 1):\n",
    "            for j in range(i + 1,  len(height)):\n",
    "                pot_max = (j - i)*min(height[i],height[j])\n",
    "                if  pot_max > max:\n",
    "                    max = pot_max\n",
    "        return max"
   ]
  },
  {
   "cell_type": "code",
   "execution_count": 96,
   "metadata": {},
   "outputs": [],
   "source": [
    "class Solution:\n",
    "    def maxArea(self, height: List[int]) -> int:\n",
    "        left_index = 0\n",
    "        right_index = len(height) - 1\n",
    "        area = 0\n",
    "        while left_index < right_index:\n",
    "            area = max(area, min(height[left_index], height[right_index])*(right_index - left_index))\n",
    "\n",
    "            if height[left_index] < height[right_index]:\n",
    "                left_index += 1\n",
    "            else:\n",
    "                right_index -=1\n",
    "                \n",
    "        return area"
   ]
  },
  {
   "cell_type": "code",
   "execution_count": 35,
   "metadata": {},
   "outputs": [
    {
     "name": "stdout",
     "output_type": "stream",
     "text": [
      "1\n",
      "['1']\n",
      "local_char_array = ['1']\n",
      "2\n",
      "['1', '2']\n",
      "local_char_array = ['1', '2']\n",
      "['a', '1', 'b', '1', '2']\n"
     ]
    }
   ],
   "source": [
    "sol = Solution()\n",
    "# print(sol.reverseWords(\"  hello world  \"))\n",
    "# print(sol.productExceptSelf([-1,1,0,-3,3]))\n",
    "# print(sol.increasingTriplet([2,1,5,0,4,6]))\n",
    "print(sol.compress([\"a\",\"b\",\"b\",\"b\",\"b\",\"b\",\"b\",\"b\",\"b\",\"b\",\"b\",\"b\",\"b\"]))"
   ]
  }
 ],
 "metadata": {
  "kernelspec": {
   "display_name": "Python 3",
   "language": "python",
   "name": "python3"
  },
  "language_info": {
   "codemirror_mode": {
    "name": "ipython",
    "version": 3
   },
   "file_extension": ".py",
   "mimetype": "text/x-python",
   "name": "python",
   "nbconvert_exporter": "python",
   "pygments_lexer": "ipython3",
   "version": "3.11.4"
  },
  "orig_nbformat": 4
 },
 "nbformat": 4,
 "nbformat_minor": 2
}
