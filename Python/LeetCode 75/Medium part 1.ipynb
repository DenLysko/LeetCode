{
 "cells": [
  {
   "cell_type": "code",
   "execution_count": 40,
   "metadata": {},
   "outputs": [],
   "source": [
    "import numpy as np\n",
    "from typing import List\n",
    "from typing import Optional"
   ]
  },
  {
   "cell_type": "code",
   "execution_count": 41,
   "metadata": {},
   "outputs": [],
   "source": [
    "class Solution:\n",
    "    def reverseWords(self, s: str) -> str:\n",
    "        words = s.split(\" \")\n",
    "        arr_for_deleting = []\n",
    "        for i in range(len(words)):\n",
    "            if len(words[i]) == 0:\n",
    "                arr_for_deleting.append(i)\n",
    "        for i in range(len(arr_for_deleting)):\n",
    "            del words[arr_for_deleting[-i-1]]\n",
    "        \n",
    "        return ' '.join(words[::-1])"
   ]
  },
  {
   "cell_type": "code",
   "execution_count": 42,
   "metadata": {},
   "outputs": [],
   "source": [
    "class Solution:\n",
    "    def productExceptSelf(self, nums: List[int]) -> List[int]:\n",
    "        product = 1\n",
    "        count_zero = 0\n",
    "        tmp = 0\n",
    "        for i in range(len(nums)):\n",
    "            if nums[i] == 0:\n",
    "                count_zero += 1\n",
    "                tmp = i\n",
    "            else:\n",
    "                product *= nums[i]\n",
    "        \n",
    "        if (count_zero == 0):\n",
    "            for i in range(len(nums)):\n",
    "                nums[i] = int(product / nums[i])\n",
    "            return nums\n",
    "        elif (count_zero == 1):\n",
    "            arr = [0]*len(nums)\n",
    "            arr[tmp] = product\n",
    "            return arr\n",
    "        else:\n",
    "            return [0]*len(nums)"
   ]
  },
  {
   "cell_type": "code",
   "execution_count": 43,
   "metadata": {},
   "outputs": [],
   "source": [
    "from copy import copy\n",
    "\n",
    "class Solution:\n",
    "    def increasingTriplet(self, nums: List[int]) -> bool:\n",
    "        sort_arr = copy(nums)\n",
    "        sort_arr.sort()\n",
    "        print(sort_arr)\n",
    "        print(nums)\n",
    "        min_left = nums[0]\n",
    "        max_right = 0\n",
    "        for i in range(1, len(nums) - 1):\n",
    "            if nums[i] > min_left:\n",
    "                max_right = sort_arr[-1]\n",
    "                if max_right > nums[i]:\n",
    "                    print(i)\n",
    "                    print(min_left)\n",
    "                    print(max_right)\n",
    "                    return True\n",
    "            elif (nums[i] < min_left):\n",
    "                min_left = nums[i]\n",
    "            sort_arr.remove(nums[i])\n",
    "\n",
    "        return False\n",
    "    \n",
    "    def findMaxRight(self, i: int, nums: List[int]) -> int:\n",
    "        if i + 1 == len(nums):\n",
    "            return -2**32\n",
    "        max_right = nums[i + 1]\n",
    "        if i + 1 < len(nums):\n",
    "            for j in range(i + 2, len(nums)):\n",
    "                if nums[j] > max_right:\n",
    "                    max_right = nums[j]\n",
    "        return max_right"
   ]
  },
  {
   "cell_type": "code",
   "execution_count": 44,
   "metadata": {},
   "outputs": [],
   "source": [
    "class Solution:\n",
    "    def compress(self, chars: List[str]) -> int:\n",
    "        counter = 0\n",
    "        dic = {}\n",
    "        result = []\n",
    "        while counter < len(chars):\n",
    "            another_char = chars[counter]\n",
    "            dic[another_char] = 1\n",
    "            counter += 1\n",
    "            print(counter)\n",
    "            while counter < len(chars) and chars[counter] == another_char:\n",
    "                dic[another_char] += 1\n",
    "                counter += 1\n",
    "            local_counter = dic[another_char]\n",
    "            local_char_array = Solution.toCharArray(self, local_counter)\n",
    "            print(f\"local_char_array = {local_char_array}\")\n",
    "            result.append(another_char)\n",
    "            result.extend(local_char_array)\n",
    "        chars = result\n",
    "        return chars\n",
    "\n",
    "\n",
    "    def toCharArray(self, local_counter: int) -> List[str]:\n",
    "        char_array = [char for char in str(local_counter)]\n",
    "        print(char_array)\n",
    "        # reversed_char_array = char_array.__reversed__()\n",
    "        # print(reversed_char_array)\n",
    "        # char_array.reverse()\n",
    "        return char_array"
   ]
  },
  {
   "cell_type": "code",
   "execution_count": 6,
   "metadata": {},
   "outputs": [],
   "source": [
    "# Решение задачи за n^2\n",
    "class Solution:\n",
    "    def maxAreaSlow(self, height: List[int]) -> int:\n",
    "        max = 0\n",
    "        for i in range(0, len(height) - 1):\n",
    "            for j in range(i + 1,  len(height)):\n",
    "                pot_max = (j - i)*min(height[i],height[j])\n",
    "                if  pot_max > max:\n",
    "                    max = pot_max\n",
    "        return max"
   ]
  },
  {
   "cell_type": "code",
   "execution_count": 7,
   "metadata": {},
   "outputs": [],
   "source": [
    "class Solution:\n",
    "    def maxArea(self, height: List[int]) -> int:\n",
    "        left_index = 0\n",
    "        right_index = len(height) - 1\n",
    "        area = 0\n",
    "        while left_index < right_index:\n",
    "            area = max(area, min(height[left_index], height[right_index])*(right_index - left_index))\n",
    "\n",
    "            if height[left_index] < height[right_index]:\n",
    "                left_index += 1\n",
    "            else:\n",
    "                right_index -=1\n",
    "                \n",
    "        return area"
   ]
  },
  {
   "cell_type": "code",
   "execution_count": 8,
   "metadata": {},
   "outputs": [],
   "source": [
    "class Solution:\n",
    "    def maxOperations(self, nums: List[int], k: int) -> int:\n",
    "        # Это делается локально\n",
    "        nums.sort()\n",
    "\n",
    "        left = 0\n",
    "        right = len(nums) - 1\n",
    "        quantity_of_deleted_pairs = 0\n",
    "        while left < right:\n",
    "            local_sum = nums[left] + nums[right]\n",
    "            if local_sum == k:\n",
    "                quantity_of_deleted_pairs += 1\n",
    "                left += 1\n",
    "                right -= 1\n",
    "            elif local_sum < k:\n",
    "                left += 1\n",
    "            else:\n",
    "                right -= 1\n",
    "        return quantity_of_deleted_pairs\n"
   ]
  },
  {
   "cell_type": "code",
   "execution_count": 104,
   "metadata": {},
   "outputs": [],
   "source": [
    "class Solution:\n",
    "    def maxVowels(self, s: str, k: int) -> int:\n",
    "        counter = 0\n",
    "        result = Solution.countVowels(self, s[:k])\n",
    "        local_counter = result\n",
    "        vowels = ['a', 'e', 'i', 'o', 'u']\n",
    "        while counter <= len(s) - k - 1:\n",
    "            if s[counter] in vowels:\n",
    "                local_counter -= 1\n",
    "            if s[counter + k] in vowels:\n",
    "                local_counter += 1\n",
    "            if local_counter > result:\n",
    "                result = local_counter\n",
    "            counter += 1\n",
    "        return result\n",
    "\n",
    "    def countVowels(self, substring: str) -> int:\n",
    "        return substring.count('a') + substring.count('e') + substring.count('i') + substring.count('o') + substring.count('u')"
   ]
  },
  {
   "cell_type": "code",
   "execution_count": 105,
   "metadata": {},
   "outputs": [
    {
     "name": "stdout",
     "output_type": "stream",
     "text": [
      "4\n"
     ]
    }
   ],
   "source": [
    "sol = Solution()\n",
    "# print(sol.reverseWords(\"  hello world  \"))\n",
    "# print(sol.productExceptSelf([-1,1,0,-3,3]))\n",
    "# print(sol.increasingTriplet([2,1,5,0,4,6]))\n",
    "# print(sol.compress([\"a\",\"b\",\"b\",\"b\",\"b\",\"b\",\"b\",\"b\",\"b\",\"b\",\"b\",\"b\",\"b\"]))\n",
    "# print(f\"result = {sol.maxOperations([1,2,3,4], 5)}\")\n",
    "print(sol.maxVowels(\"weallloveyou\", 7))"
   ]
  }
 ],
 "metadata": {
  "kernelspec": {
   "display_name": "Python 3",
   "language": "python",
   "name": "python3"
  },
  "language_info": {
   "codemirror_mode": {
    "name": "ipython",
    "version": 3
   },
   "file_extension": ".py",
   "mimetype": "text/x-python",
   "name": "python",
   "nbconvert_exporter": "python",
   "pygments_lexer": "ipython3",
   "version": "3.11.4"
  },
  "orig_nbformat": 4
 },
 "nbformat": 4,
 "nbformat_minor": 2
}
