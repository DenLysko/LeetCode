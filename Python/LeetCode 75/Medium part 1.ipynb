{
 "cells": [
  {
   "cell_type": "code",
   "execution_count": 1,
   "metadata": {},
   "outputs": [],
   "source": [
    "import numpy as np\n",
    "from typing import List\n",
    "from typing import Optional"
   ]
  },
  {
   "cell_type": "code",
   "execution_count": 2,
   "metadata": {},
   "outputs": [],
   "source": [
    "class Solution:\n",
    "    def reverseWords(self, s: str) -> str:\n",
    "        words = s.split(\" \")\n",
    "        arr_for_deleting = []\n",
    "        for i in range(len(words)):\n",
    "            if len(words[i]) == 0:\n",
    "                arr_for_deleting.append(i)\n",
    "        for i in range(len(arr_for_deleting)):\n",
    "            del words[arr_for_deleting[-i-1]]\n",
    "        \n",
    "        return ' '.join(words[::-1])"
   ]
  },
  {
   "cell_type": "code",
   "execution_count": 3,
   "metadata": {},
   "outputs": [],
   "source": [
    "class Solution:\n",
    "    def productExceptSelf(self, nums: List[int]) -> List[int]:\n",
    "        product = 1\n",
    "        count_zero = 0\n",
    "        tmp = 0\n",
    "        for i in range(len(nums)):\n",
    "            if nums[i] == 0:\n",
    "                count_zero += 1\n",
    "                tmp = i\n",
    "            else:\n",
    "                product *= nums[i]\n",
    "        \n",
    "        if (count_zero == 0):\n",
    "            for i in range(len(nums)):\n",
    "                nums[i] = int(product / nums[i])\n",
    "            return nums\n",
    "        elif (count_zero == 1):\n",
    "            arr = [0]*len(nums)\n",
    "            arr[tmp] = product\n",
    "            return arr\n",
    "        else:\n",
    "            return [0]*len(nums)"
   ]
  },
  {
   "cell_type": "code",
   "execution_count": 4,
   "metadata": {},
   "outputs": [],
   "source": [
    "from copy import copy\n",
    "\n",
    "class Solution:\n",
    "    def increasingTriplet(self, nums: List[int]) -> bool:\n",
    "        sort_arr = copy(nums)\n",
    "        sort_arr.sort()\n",
    "        print(sort_arr)\n",
    "        print(nums)\n",
    "        min_left = nums[0]\n",
    "        max_right = 0\n",
    "        for i in range(1, len(nums) - 1):\n",
    "            if nums[i] > min_left:\n",
    "                max_right = sort_arr[-1]\n",
    "                if max_right > nums[i]:\n",
    "                    print(i)\n",
    "                    print(min_left)\n",
    "                    print(max_right)\n",
    "                    return True\n",
    "            elif (nums[i] < min_left):\n",
    "                min_left = nums[i]\n",
    "            sort_arr.remove(nums[i])\n",
    "\n",
    "        return False\n",
    "    \n",
    "    def findMaxRight(self, i: int, nums: List[int]) -> int:\n",
    "        if i + 1 == len(nums):\n",
    "            return -2**32\n",
    "        max_right = nums[i + 1]\n",
    "        if i + 1 < len(nums):\n",
    "            for j in range(i + 2, len(nums)):\n",
    "                if nums[j] > max_right:\n",
    "                    max_right = nums[j]\n",
    "        return max_right"
   ]
  },
  {
   "cell_type": "code",
   "execution_count": 32,
   "metadata": {},
   "outputs": [],
   "source": [
    "class Solution:\n",
    "    def compress(self, chars: List[str]) -> int:\n",
    "        counter = 0\n",
    "        dic = {}\n",
    "        result = []\n",
    "        while counter < len(chars):\n",
    "            another_char = chars[counter]\n",
    "            dic[another_char] = 1\n",
    "            counter += 1\n",
    "            print(counter)\n",
    "            while counter < len(chars) and chars[counter] == another_char:\n",
    "                dic[another_char] += 1\n",
    "                counter += 1\n",
    "            local_counter = dic[another_char]\n",
    "            local_char_array = Solution.toCharArray(self, local_counter)\n",
    "            print(f\"local_char_array = {local_char_array}\")\n",
    "            result.append(another_char)\n",
    "            result.extend(local_char_array)\n",
    "\n",
    "        return result\n",
    "\n",
    "\n",
    "    def toCharArray(self, local_counter: int) -> List[str]:\n",
    "        char_array = [char for char in str(local_counter)]\n",
    "        print(char_array)\n",
    "        # reversed_char_array = char_array.__reversed__()\n",
    "        # print(reversed_char_array)\n",
    "        # char_array.reverse()\n",
    "        return char_array\n",
    "        "
   ]
  },
  {
   "cell_type": "code",
   "execution_count": 33,
   "metadata": {},
   "outputs": [
    {
     "name": "stdout",
     "output_type": "stream",
     "text": [
      "1\n",
      "['1']\n",
      "local_char_array = ['1']\n"
     ]
    },
    {
     "ename": "TypeError",
     "evalue": "'str' object is not callable",
     "output_type": "error",
     "traceback": [
      "\u001b[1;31m---------------------------------------------------------------------------\u001b[0m",
      "\u001b[1;31mTypeError\u001b[0m                                 Traceback (most recent call last)",
      "Cell \u001b[1;32mIn[33], line 5\u001b[0m\n\u001b[0;32m      1\u001b[0m sol \u001b[39m=\u001b[39m Solution()\n\u001b[0;32m      2\u001b[0m \u001b[39m# print(sol.reverseWords(\"  hello world  \"))\u001b[39;00m\n\u001b[0;32m      3\u001b[0m \u001b[39m# print(sol.productExceptSelf([-1,1,0,-3,3]))\u001b[39;00m\n\u001b[0;32m      4\u001b[0m \u001b[39m# print(sol.increasingTriplet([2,1,5,0,4,6]))\u001b[39;00m\n\u001b[1;32m----> 5\u001b[0m \u001b[39mprint\u001b[39m(sol\u001b[39m.\u001b[39;49mcompress([\u001b[39m\"\u001b[39;49m\u001b[39ma\u001b[39;49m\u001b[39m\"\u001b[39;49m,\u001b[39m\"\u001b[39;49m\u001b[39mb\u001b[39;49m\u001b[39m\"\u001b[39;49m,\u001b[39m\"\u001b[39;49m\u001b[39mb\u001b[39;49m\u001b[39m\"\u001b[39;49m,\u001b[39m\"\u001b[39;49m\u001b[39mb\u001b[39;49m\u001b[39m\"\u001b[39;49m,\u001b[39m\"\u001b[39;49m\u001b[39mb\u001b[39;49m\u001b[39m\"\u001b[39;49m,\u001b[39m\"\u001b[39;49m\u001b[39mb\u001b[39;49m\u001b[39m\"\u001b[39;49m,\u001b[39m\"\u001b[39;49m\u001b[39mb\u001b[39;49m\u001b[39m\"\u001b[39;49m,\u001b[39m\"\u001b[39;49m\u001b[39mb\u001b[39;49m\u001b[39m\"\u001b[39;49m,\u001b[39m\"\u001b[39;49m\u001b[39mb\u001b[39;49m\u001b[39m\"\u001b[39;49m,\u001b[39m\"\u001b[39;49m\u001b[39mb\u001b[39;49m\u001b[39m\"\u001b[39;49m,\u001b[39m\"\u001b[39;49m\u001b[39mb\u001b[39;49m\u001b[39m\"\u001b[39;49m,\u001b[39m\"\u001b[39;49m\u001b[39mb\u001b[39;49m\u001b[39m\"\u001b[39;49m,\u001b[39m\"\u001b[39;49m\u001b[39mb\u001b[39;49m\u001b[39m\"\u001b[39;49m]))\n",
      "Cell \u001b[1;32mIn[32], line 20\u001b[0m, in \u001b[0;36mSolution.compress\u001b[1;34m(self, chars)\u001b[0m\n\u001b[0;32m     18\u001b[0m     local_char_array \u001b[39m=\u001b[39m Solution\u001b[39m.\u001b[39mtoCharArray(\u001b[39mself\u001b[39m, local_counter)\n\u001b[0;32m     19\u001b[0m     \u001b[39mprint\u001b[39m(\u001b[39mf\u001b[39m\u001b[39m\"\u001b[39m\u001b[39mlocal_char_array = \u001b[39m\u001b[39m{\u001b[39;00mlocal_char_array\u001b[39m}\u001b[39;00m\u001b[39m\"\u001b[39m)\n\u001b[1;32m---> 20\u001b[0m     result\u001b[39m.\u001b[39mappend(CHAR(another_char))\n\u001b[0;32m     21\u001b[0m     result\u001b[39m.\u001b[39mextend(local_char_array)\n\u001b[0;32m     23\u001b[0m \u001b[39mreturn\u001b[39;00m result\n",
      "\u001b[1;31mTypeError\u001b[0m: 'str' object is not callable"
     ]
    }
   ],
   "source": [
    "sol = Solution()\n",
    "# print(sol.reverseWords(\"  hello world  \"))\n",
    "# print(sol.productExceptSelf([-1,1,0,-3,3]))\n",
    "# print(sol.increasingTriplet([2,1,5,0,4,6]))\n",
    "print(sol.compress([\"a\",\"b\",\"b\",\"b\",\"b\",\"b\",\"b\",\"b\",\"b\",\"b\",\"b\",\"b\",\"b\"]))"
   ]
  }
 ],
 "metadata": {
  "kernelspec": {
   "display_name": "Python 3",
   "language": "python",
   "name": "python3"
  },
  "language_info": {
   "codemirror_mode": {
    "name": "ipython",
    "version": 3
   },
   "file_extension": ".py",
   "mimetype": "text/x-python",
   "name": "python",
   "nbconvert_exporter": "python",
   "pygments_lexer": "ipython3",
   "version": "3.11.4"
  },
  "orig_nbformat": 4
 },
 "nbformat": 4,
 "nbformat_minor": 2
}
