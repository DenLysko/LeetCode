{
 "cells": [
  {
   "cell_type": "code",
   "execution_count": 1,
   "metadata": {},
   "outputs": [],
   "source": [
    "import numpy as np\n",
    "from typing import List\n",
    "from typing import Optional"
   ]
  },
  {
   "cell_type": "code",
   "execution_count": 2,
   "metadata": {},
   "outputs": [],
   "source": [
    "class Solution:\n",
    "    def reverseWords(self, s: str) -> str:\n",
    "        words = s.split(\" \")\n",
    "        arr_for_deleting = []\n",
    "        for i in range(len(words)):\n",
    "            if len(words[i]) == 0:\n",
    "                arr_for_deleting.append(i)\n",
    "        for i in range(len(arr_for_deleting)):\n",
    "            del words[arr_for_deleting[-i-1]]\n",
    "        \n",
    "        return ' '.join(words[::-1])"
   ]
  },
  {
   "cell_type": "code",
   "execution_count": 3,
   "metadata": {},
   "outputs": [],
   "source": [
    "class Solution:\n",
    "    def productExceptSelf(self, nums: List[int]) -> List[int]:\n",
    "        product = 1\n",
    "        count_zero = 0\n",
    "        tmp = 0\n",
    "        for i in range(len(nums)):\n",
    "            if nums[i] == 0:\n",
    "                count_zero += 1\n",
    "                tmp = i\n",
    "            else:\n",
    "                product *= nums[i]\n",
    "        \n",
    "        if (count_zero == 0):\n",
    "            for i in range(len(nums)):\n",
    "                nums[i] = int(product / nums[i])\n",
    "            return nums\n",
    "        elif (count_zero == 1):\n",
    "            arr = [0]*len(nums)\n",
    "            arr[tmp] = product\n",
    "            return arr\n",
    "        else:\n",
    "            return [0]*len(nums)"
   ]
  },
