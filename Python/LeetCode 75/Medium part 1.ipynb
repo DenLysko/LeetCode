{
 "cells": [
  {
   "cell_type": "code",
   "execution_count": 1,
   "metadata": {},
   "outputs": [],
   "source": [
    "import numpy as np\n",
    "from typing import List\n",
    "from typing import Optional"
   ]
  },
  {
   "cell_type": "code",
   "execution_count": 2,
   "metadata": {},
   "outputs": [],
   "source": [
    "class Solution:\n",
    "    def reverseWords(self, s: str) -> str:\n",
    "        words = s.split(\" \")\n",
    "        arr_for_deleting = []\n",
    "        for i in range(len(words)):\n",
    "            if len(words[i]) == 0:\n",
    "                arr_for_deleting.append(i)\n",
    "        for i in range(len(arr_for_deleting)):\n",
    "            del words[arr_for_deleting[-i-1]]\n",
    "        \n",
    "        return ' '.join(words[::-1])"
   ]
  },
  {
   "cell_type": "code",
   "execution_count": 3,
   "metadata": {},
   "outputs": [],
   "source": [
    "class Solution:\n",
    "    def productExceptSelf(self, nums: List[int]) -> List[int]:\n",
    "        product = 1\n",
    "        count_zero = 0\n",
    "        tmp = 0\n",
    "        for i in range(len(nums)):\n",
    "            if nums[i] == 0:\n",
    "                count_zero += 1\n",
    "                tmp = i\n",
    "            else:\n",
    "                product *= nums[i]\n",
    "        \n",
    "        if (count_zero == 0):\n",
    "            for i in range(len(nums)):\n",
    "                nums[i] = int(product / nums[i])\n",
    "            return nums\n",
    "        elif (count_zero == 1):\n",
    "            arr = [0]*len(nums)\n",
    "            arr[tmp] = product\n",
    "            return arr\n",
    "        else:\n",
    "            return [0]*len(nums)"
   ]
  },
  {
   "cell_type": "code",
   "execution_count": 4,
   "metadata": {},
   "outputs": [],
   "source": [
    "from copy import copy\n",
    "\n",
    "class Solution:\n",
    "    def increasingTriplet(self, nums: List[int]) -> bool:\n",
    "        sort_arr = copy(nums)\n",
    "        sort_arr.sort()\n",
    "        print(sort_arr)\n",
    "        print(nums)\n",
    "        min_left = nums[0]\n",
    "        max_right = 0\n",
    "        for i in range(1, len(nums) - 1):\n",
    "            if nums[i] > min_left:\n",
    "                max_right = sort_arr[-1]\n",
    "                if max_right > nums[i]:\n",
    "                    print(i)\n",
    "                    print(min_left)\n",
    "                    print(max_right)\n",
    "                    return True\n",
    "            elif (nums[i] < min_left):\n",
    "                min_left = nums[i]\n",
    "            sort_arr.remove(nums[i])\n",
    "\n",
    "        return False\n",
    "    \n",
    "    def findMaxRight(self, i: int, nums: List[int]) -> int:\n",
    "        if i + 1 == len(nums):\n",
    "            return -2**32\n",
    "        max_right = nums[i + 1]\n",
    "        if i + 1 < len(nums):\n",
    "            for j in range(i + 2, len(nums)):\n",
    "                if nums[j] > max_right:\n",
    "                    max_right = nums[j]\n",
    "        return max_right"
   ]
  },
  {
   "cell_type": "code",
   "execution_count": 4,
   "metadata": {},
   "outputs": [
    {
     "ename": "KeyboardInterrupt",
     "evalue": "",
     "output_type": "error",
     "traceback": [
      "\u001b[1;31m---------------------------------------------------------------------------\u001b[0m",
      "\u001b[1;31mKeyboardInterrupt\u001b[0m                         Traceback (most recent call last)",
      "File \u001b[1;32mc:\\Users\\ajdk4\\AppData\\Local\\Programs\\Python\\Python311\\Lib\\site-packages\\IPython\\core\\async_helpers.py:129\u001b[0m, in \u001b[0;36m_pseudo_sync_runner\u001b[1;34m(coro)\u001b[0m\n\u001b[0;32m    121\u001b[0m \u001b[39m\u001b[39m\u001b[39m\"\"\"\u001b[39;00m\n\u001b[0;32m    122\u001b[0m \u001b[39mA runner that does not really allow async execution, and just advance the coroutine.\u001b[39;00m\n\u001b[0;32m    123\u001b[0m \n\u001b[1;32m   (...)\u001b[0m\n\u001b[0;32m    126\u001b[0m \u001b[39mCredit to Nathaniel Smith\u001b[39;00m\n\u001b[0;32m    127\u001b[0m \u001b[39m\"\"\"\u001b[39;00m\n\u001b[0;32m    128\u001b[0m \u001b[39mtry\u001b[39;00m:\n\u001b[1;32m--> 129\u001b[0m     coro\u001b[39m.\u001b[39;49msend(\u001b[39mNone\u001b[39;49;00m)\n\u001b[0;32m    130\u001b[0m \u001b[39mexcept\u001b[39;00m \u001b[39mStopIteration\u001b[39;00m \u001b[39mas\u001b[39;00m exc:\n\u001b[0;32m    131\u001b[0m     \u001b[39mreturn\u001b[39;00m exc\u001b[39m.\u001b[39mvalue\n",
      "File \u001b[1;32mc:\\Users\\ajdk4\\AppData\\Local\\Programs\\Python\\Python311\\Lib\\site-packages\\IPython\\core\\interactiveshell.py:3256\u001b[0m, in \u001b[0;36mInteractiveShell.run_cell_async\u001b[1;34m(self, raw_cell, store_history, silent, shell_futures, transformed_cell, preprocessing_exc_tuple, cell_id)\u001b[0m\n\u001b[0;32m   3254\u001b[0m \u001b[39m# Apply AST transformations\u001b[39;00m\n\u001b[0;32m   3255\u001b[0m \u001b[39mtry\u001b[39;00m:\n\u001b[1;32m-> 3256\u001b[0m     code_ast \u001b[39m=\u001b[39m \u001b[39mself\u001b[39;49m\u001b[39m.\u001b[39;49mtransform_ast(code_ast)\n\u001b[0;32m   3257\u001b[0m \u001b[39mexcept\u001b[39;00m InputRejected \u001b[39mas\u001b[39;00m e:\n\u001b[0;32m   3258\u001b[0m     \u001b[39mself\u001b[39m\u001b[39m.\u001b[39mshowtraceback()\n",
      "File \u001b[1;32mc:\\Users\\ajdk4\\AppData\\Local\\Programs\\Python\\Python311\\Lib\\site-packages\\IPython\\core\\interactiveshell.py:3318\u001b[0m, in \u001b[0;36mInteractiveShell.transform_ast\u001b[1;34m(self, node)\u001b[0m\n\u001b[0;32m   3314\u001b[0m     cell \u001b[39m=\u001b[39m \u001b[39m'\u001b[39m\u001b[39m'\u001b[39m\u001b[39m.\u001b[39mjoin(lines)\n\u001b[0;32m   3316\u001b[0m     \u001b[39mreturn\u001b[39;00m cell\n\u001b[1;32m-> 3318\u001b[0m \u001b[39mdef\u001b[39;00m \u001b[39mtransform_ast\u001b[39m(\u001b[39mself\u001b[39m, node):\n\u001b[0;32m   3319\u001b[0m \u001b[39m    \u001b[39m\u001b[39m\"\"\"Apply the AST transformations from self.ast_transformers\u001b[39;00m\n\u001b[0;32m   3320\u001b[0m \n\u001b[0;32m   3321\u001b[0m \u001b[39m    Parameters\u001b[39;00m\n\u001b[1;32m   (...)\u001b[0m\n\u001b[0;32m   3331\u001b[0m \u001b[39m    original AST.\u001b[39;00m\n\u001b[0;32m   3332\u001b[0m \u001b[39m    \"\"\"\u001b[39;00m\n\u001b[0;32m   3333\u001b[0m     \u001b[39mfor\u001b[39;00m transformer \u001b[39min\u001b[39;00m \u001b[39mself\u001b[39m\u001b[39m.\u001b[39mast_transformers:\n",
      "\u001b[1;31mKeyboardInterrupt\u001b[0m: "
     ]
    }
   ],
   "source": [
    "sol = Solution()\n",
    "# print(sol.reverseWords(\"  hello world  \"))\n",
    "# print(sol.productExceptSelf([-1,1,0,-3,3]))\n",
    "print(sol.increasingTriplet([2,1,5,0,4,6]))"
   ]
  }
 ],
 "metadata": {
  "kernelspec": {
   "display_name": "Python 3",
   "language": "python",
   "name": "python3"
  },
  "language_info": {
   "codemirror_mode": {
    "name": "ipython",
    "version": 3
   },
   "file_extension": ".py",
   "mimetype": "text/x-python",
   "name": "python",
   "nbconvert_exporter": "python",
   "pygments_lexer": "ipython3",
   "version": "3.11.4"
  },
  "orig_nbformat": 4
 },
 "nbformat": 4,
 "nbformat_minor": 2
}
