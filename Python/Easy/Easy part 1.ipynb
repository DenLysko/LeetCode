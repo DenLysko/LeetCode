{
 "cells": [
  {
   "cell_type": "code",
   "execution_count": 2,
   "metadata": {},
   "outputs": [],
   "source": [
    "import numpy as np\n",
    "from typing import List\n",
    "from typing import Optional"
   ]
  },
  {
   "cell_type": "code",
   "execution_count": 3,
   "metadata": {},
   "outputs": [],
   "source": [
    "class Solution:\n",
    "    def targetIndices(self, nums: List[int], target: int) -> List[int]:\n",
    "        length, less = 0, 0\n",
    "        for num in nums:\n",
    "            if num < target:\n",
    "                less += 1\n",
    "            elif num == target:\n",
    "                length += 1\n",
    "        # print(length)\n",
    "        # print(less)\n",
    "        # print(list(range(less + length)))\n",
    "        # arr = list(range(less + length)[less:])\n",
    "        return list(range(less + length)[less:])"
   ]
  },
  {
   "cell_type": "code",
   "execution_count": 4,
   "metadata": {},
   "outputs": [],
   "source": [
    "class Solution:\n",
    "    def arithmeticTriplets(self, nums: List[int], diff: int) -> int:\n",
    "        counter = 0\n",
    "        for num in nums:\n",
    "            if num - diff in nums and num - diff - diff in nums:\n",
    "                counter += 1\n",
    "        return counter"
   ]
  },
  {
   "cell_type": "code",
   "execution_count": 5,
   "metadata": {},
   "outputs": [],
   "source": [
    "class Solution:\n",
    "    def reverseWords(self, s: str) -> str:\n",
    "        words = s.split(' ')\n",
    "        result = \"\"\n",
    "        for word in words:\n",
    "            result += ''.join(word[::-1]) + \" \"\n",
    "        print(result)\n",
    "        return result[:len(result) - 1]"
   ]
  },
  {
   "cell_type": "code",
   "execution_count": 6,
   "metadata": {},
   "outputs": [],
   "source": [
    "class TreeNode:\n",
    "    def __init__(self, val=0, left=None, right=None):\n",
    "        self.val = val\n",
    "        self.left = left\n",
    "        self.right = right\n",
    "\n",
    "class Solution:\n",
    "    def averageOfLevels(self, root: Optional[TreeNode]) -> List[float]:\n",
    "        dic = {}\n",
    "        dic2 = {}\n",
    "        if root is None:\n",
    "            return dic\n",
    "        dic[0] = root.val\n",
    "        dic2[0] = 1\n",
    "        level = 0\n",
    "        if root.left is not None:\n",
    "            Solution.FillDic(self, root.left, dic, dic2, level + 1)\n",
    "        if root.right is not None:\n",
    "            Solution.FillDic(self, root.right, dic, dic2, level + 1)\n",
    "        print(dic)\n",
    "        print(dic2)\n",
    "        result = [0]*len(dic.keys())\n",
    "        for d in dic.keys():\n",
    "            result[d] = dic[d] / dic2[d]\n",
    "        print(result)\n",
    "        return result\n",
    "\n",
    "    def FillDic(self, node: Optional[TreeNode], dic, dic2, current_level):\n",
    "        print(dic)\n",
    "        if current_level in dic.keys():\n",
    "            dic[current_level] += node.val\n",
    "            dic2[current_level] += 1\n",
    "        else:\n",
    "            dic[current_level] = node.val\n",
    "            dic2[current_level] = 1\n",
    "        if node.left is not None:\n",
    "            Solution.FillDic(self, node.left, dic, dic2, current_level + 1)\n",
    "        if node.right is not None:\n",
    "            Solution.FillDic(self, node.right, dic, dic2, current_level + 1)\n"
   ]
  },
  {
   "cell_type": "code",
   "execution_count": 7,
   "metadata": {},
   "outputs": [],
   "source": [
    "class Solution:\n",
    "    def numUniqueEmails(self, emails: List[str]) -> int:\n",
    "        resultEmails = []\n",
    "        for email in emails:\n",
    "            arr = email.split(\"@\")\n",
    "            name = arr[0].split(\"+\")[0]\n",
    "            local_result = name.replace(\".\",\"\") + \"@\" + arr[1]\n",
    "            if local_result not in resultEmails:\n",
    "                resultEmails.append(local_result)\n",
    "        return len(resultEmails)"
   ]
  },
  {
   "cell_type": "code",
   "execution_count": 10,
   "metadata": {},
   "outputs": [],
   "source": [
    "class Solution:\n",
    "    def twoSum(self, nums: List[int], target: int) -> List[int]:\n",
    "        dic = {}\n",
    "        for i, num in enumerate(nums):\n",
    "            if target - num in dic.keys():\n",
    "                lst = []\n",
    "                lst.append(dic[target - num])\n",
    "                lst.append(i)\n",
    "                return lst\n",
    "            else:\n",
    "                dic[num] = i"
   ]
  },
  {
   "cell_type": "code",
   "execution_count": 12,
   "metadata": {},
   "outputs": [],
   "source": [
    "class Solution:\n",
    "    def isPalindrome(self, x: int) -> bool:\n",
    "        s = str(x)\n",
    "        quantity = len(s) // 2\n",
    "        for i in range(quantity):\n",
    "            if s[i] != s[-i-1]:\n",
    "                return False\n",
    "        return True"
   ]
  },
  {
   "cell_type": "code",
   "execution_count": 19,
   "metadata": {},
   "outputs": [],
   "source": [
    "class Solution:\n",
    "    def longestCommonPrefix(self, strs: List[str]) -> str:\n",
    "        prefix = \"\"\n",
    "        min_length = 2**34\n",
    "        \n",
    "        if (len(strs)) == 0:\n",
    "            return prefix\n",
    "        \n",
    "        for i in range(len(strs)):\n",
    "            if len(strs[i]) < min_length:\n",
    "                min_length = len(strs[i])\n",
    "        \n",
    "        for i in range(min_length):\n",
    "            potential_letter = strs[0][i]\n",
    "            for j in range(len(strs)):\n",
    "                if potential_letter != strs[j][i]:\n",
    "                    return prefix\n",
    "            prefix += potential_letter\n",
    "        return prefix\n"
   ]
  },
  {
   "cell_type": "code",
   "execution_count": 21,
   "metadata": {},
   "outputs": [
    {
     "name": "stdout",
     "output_type": "stream",
     "text": [
      "fl\n",
      "\n"
     ]
    }
   ],
   "source": [
    "sol = Solution()\n",
    "# print(sol.targetIndices([1,2,5,2,3], 5))\n",
    "# print(sol.arithmeticTriplets([0,1,4,6,7,10], 3))\n",
    "# print(sol.reverseWords(\"Let's take LeetCode contest\"))\n",
    "\n",
    "# node9 = TreeNode(4)\n",
    "# node8 = TreeNode(7)\n",
    "# node7 = TreeNode(8)\n",
    "# node6 = TreeNode(9)\n",
    "# node5 = TreeNode(2, node8, node9)\n",
    "# node4 = TreeNode(6)\n",
    "# node3 = TreeNode(1, node6, node7)\n",
    "# node2 = TreeNode(5, node4, node5)\n",
    "# node1 = TreeNode(3, node2, node3)\n",
    "# print(sol.averageOfLevels(node1))\n",
    "\n",
    "# print(sol.numUniqueEmails([\"test.email+alex@leetcode.com\",\"test.e.mail+bob.cathy@leetcode.com\",\"testemail+david@lee.tcode.com\"]))\n",
    "# print(sol.twoSum([3,2,4], 6))\n",
    "\n",
    "# print(sol.isPalindrome(121))\n",
    "# print(sol.isPalindrome(13431))\n",
    "# print(sol.isPalindrome(1341))\n",
    "\n",
    "print(sol.longestCommonPrefix([\"flower\",\"flow\",\"flight\"]))\n",
    "print(sol.longestCommonPrefix([\"dog\",\"racecar\",\"car\"]))"
   ]
  }
 ],
 "metadata": {
  "kernelspec": {
   "display_name": "Python 3",
   "language": "python",
   "name": "python3"
  },
  "language_info": {
   "codemirror_mode": {
    "name": "ipython",
    "version": 3
   },
   "file_extension": ".py",
   "mimetype": "text/x-python",
   "name": "python",
   "nbconvert_exporter": "python",
   "pygments_lexer": "ipython3",
   "version": "3.11.4"
  },
  "orig_nbformat": 4
 },
 "nbformat": 4,
 "nbformat_minor": 2
}
