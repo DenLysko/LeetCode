{
 "cells": [
  {
   "cell_type": "code",
   "execution_count": 2,
   "metadata": {},
   "outputs": [],
   "source": [
    "import numpy as np\n",
    "from typing import List\n",
    "from typing import Optional"
   ]
  },
  {
   "cell_type": "code",
   "execution_count": 3,
   "metadata": {},
   "outputs": [],
   "source": [
    "class Solution:\n",
    "    def targetIndices(self, nums: List[int], target: int) -> List[int]:\n",
    "        length, less = 0, 0\n",
    "        for num in nums:\n",
    "            if num < target:\n",
    "                less += 1\n",
    "            elif num == target:\n",
    "                length += 1\n",
    "        # print(length)\n",
    "        # print(less)\n",
    "        # print(list(range(less + length)))\n",
    "        # arr = list(range(less + length)[less:])\n",
    "        return list(range(less + length)[less:])"
   ]
  },
  {
   "cell_type": "code",
   "execution_count": 4,
   "metadata": {},
   "outputs": [],
   "source": [
    "class Solution:\n",
    "    def arithmeticTriplets(self, nums: List[int], diff: int) -> int:\n",
    "        counter = 0\n",
    "        for num in nums:\n",
    "            if num - diff in nums and num - diff - diff in nums:\n",
    "                counter += 1\n",
    "        return counter"
   ]
  },
  {
   "cell_type": "code",
   "execution_count": 5,
   "metadata": {},
   "outputs": [],
   "source": [
    "class Solution:\n",
    "    def reverseWords(self, s: str) -> str:\n",
    "        words = s.split(' ')\n",
    "        result = \"\"\n",
    "        for word in words:\n",
    "            result += ''.join(word[::-1]) + \" \"\n",
    "        print(result)\n",
    "        return result[:len(result) - 1]"
   ]
  },
  {
   "cell_type": "code",
   "execution_count": 27,
   "metadata": {},
   "outputs": [],
   "source": [
    "class TreeNode:\n",
    "    def __init__(self, val=0, left=None, right=None):\n",
    "        self.val = val\n",
    "        self.left = left\n",
    "        self.right = right\n",
    "\n",
    "class Solution:\n",
    "    def averageOfLevels(self, root: Optional[TreeNode]) -> List[float]:\n",
    "        dic = {}\n",
    "        dic2 = {}\n",
    "        if root is None:\n",
    "            return dic\n",
    "        dic[0] = root.val\n",
    "        dic2[0] = 1\n",
    "        level = 0\n",
    "        if root.left is not None:\n",
    "            Solution.FillDic(self, root.left, dic, dic2, level + 1)\n",
    "        if root.right is not None:\n",
    "            Solution.FillDic(self, root.right, dic, dic2, level + 1)\n",
    "        print(dic)\n",
    "        print(dic2)\n",
    "        result = [0]*len(dic.keys())\n",
    "        for d in dic.keys():\n",
    "            result[d] = dic[d] / dic2[d]\n",
    "        print(result)\n",
    "        return result\n",
    "\n",
    "    def FillDic(self, node: Optional[TreeNode], dic, dic2, current_level):\n",
    "        print(dic)\n",
    "        if current_level in dic.keys():\n",
    "            dic[current_level] += node.val\n",
    "            dic2[current_level] += 1\n",
    "        else:\n",
    "            dic[current_level] = node.val\n",
    "            dic2[current_level] = 1\n",
    "        if node.left is not None:\n",
    "            Solution.FillDic(self, node.left, dic, dic2, current_level + 1)\n",
    "        if node.right is not None:\n",
    "            Solution.FillDic(self, node.right, dic, dic2, current_level + 1)\n"
   ]
  },
  {
   "cell_type": "code",
   "execution_count": 28,
   "metadata": {},
   "outputs": [
    {
     "name": "stdout",
     "output_type": "stream",
     "text": [
      "{0: 3}\n",
      "{0: 3, 1: 5}\n",
      "{0: 3, 1: 5, 2: 6}\n",
      "{0: 3, 1: 5, 2: 8}\n",
      "{0: 3, 1: 5, 2: 8, 3: 7}\n",
      "{0: 3, 1: 5, 2: 8, 3: 11}\n",
      "{0: 3, 1: 6, 2: 8, 3: 11}\n",
      "{0: 3, 1: 6, 2: 17, 3: 11}\n",
      "{0: 3, 1: 6, 2: 25, 3: 11}\n",
      "{0: 1, 1: 2, 2: 4, 3: 2}\n",
      "[3.0, 3.0, 6.25, 5.5]\n",
      "[3, 6, 25, 11]\n"
     ]
    }
   ],
   "source": [
    "sol = Solution()\n",
    "# print(sol.targetIndices([1,2,5,2,3], 5))\n",
    "# print(sol.arithmeticTriplets([0,1,4,6,7,10], 3))\n",
    "# print(sol.reverseWords(\"Let's take LeetCode contest\"))\n",
    "\n",
    "node9 = TreeNode(4)\n",
    "node8 = TreeNode(7)\n",
    "node7 = TreeNode(8)\n",
    "node6 = TreeNode(9)\n",
    "node5 = TreeNode(2, node8, node9)\n",
    "node4 = TreeNode(6)\n",
    "node3 = TreeNode(1, node6, node7)\n",
    "node2 = TreeNode(5, node4, node5)\n",
    "node1 = TreeNode(3, node2, node3)\n",
    "print(sol.averageOfLevels(node1))"
   ]
  }
 ],
 "metadata": {
  "kernelspec": {
   "display_name": "Python 3",
   "language": "python",
   "name": "python3"
  },
  "language_info": {
   "codemirror_mode": {
    "name": "ipython",
    "version": 3
   },
   "file_extension": ".py",
   "mimetype": "text/x-python",
   "name": "python",
   "nbconvert_exporter": "python",
   "pygments_lexer": "ipython3",
   "version": "3.11.4"
  },
  "orig_nbformat": 4
 },
 "nbformat": 4,
 "nbformat_minor": 2
}
