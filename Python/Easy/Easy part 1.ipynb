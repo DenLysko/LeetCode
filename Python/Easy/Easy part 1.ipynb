{
 "cells": [
  {
   "cell_type": "code",
   "execution_count": 2,
   "metadata": {},
   "outputs": [],
   "source": [
    "import numpy as np\n",
    "from typing import List\n",
    "from typing import Optional"
   ]
  },
  {
   "cell_type": "code",
   "execution_count": 24,
   "metadata": {},
   "outputs": [],
   "source": [
    "class Solution:\n",
    "    def targetIndices(self, nums: List[int], target: int) -> List[int]:\n",
    "        length, less = 0, 0\n",
    "        for num in nums:\n",
    "            if num < target:\n",
    "                less += 1\n",
    "            elif num == target:\n",
    "                length += 1\n",
    "        # print(length)\n",
    "        # print(less)\n",
    "        # print(list(range(less + length)))\n",
    "        # arr = list(range(less + length)[less:])\n",
    "        return list(range(less + length)[less:])"
   ]
  },
  {
   "cell_type": "code",
   "execution_count": 25,
   "metadata": {},
   "outputs": [
    {
     "name": "stdout",
     "output_type": "stream",
     "text": [
      "[4]\n"
     ]
    }
   ],
   "source": [
    "sol = Solution()\n",
    "print(sol.targetIndices([1,2,5,2,3], 5))"
   ]
  }
 ],
 "metadata": {
  "kernelspec": {
   "display_name": "Python 3",
   "language": "python",
   "name": "python3"
  },
  "language_info": {
   "codemirror_mode": {
    "name": "ipython",
    "version": 3
   },
   "file_extension": ".py",
   "mimetype": "text/x-python",
   "name": "python",
   "nbconvert_exporter": "python",
   "pygments_lexer": "ipython3",
   "version": "3.11.4"
  },
  "orig_nbformat": 4
 },
 "nbformat": 4,
 "nbformat_minor": 2
}
